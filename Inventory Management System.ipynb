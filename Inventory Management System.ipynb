{
 "cells": [
  {
   "cell_type": "code",
   "execution_count": 1,
   "id": "ca330020",
   "metadata": {},
   "outputs": [
    {
     "name": "stdout",
     "output_type": "stream",
     "text": [
      "{1120: {'Product_Name': 'Apple', 'Expiry_date': 2021, 'Price': 100, 'Quantity': 200, 'Taste': 'sweet'}, 1121: {'Product_Name': 'Banana', 'Expiry_date': 2021, 'Price': 30, 'Quantity': 150, 'Taste': 'sweet'}, 1122: {'Product_Name': 'Vinegar', 'Expiry_date': 2022, 'Price': 55, 'Quantity': 80, 'Taste': 'sour'}, 1123: {'Product_Name': 'Strawberry', 'Expiry_date': 2021, 'Price': 99, 'Quantity': 120, 'Taste': 'sweet'}, 1124: {'Product_Name': 'Grapes', 'Expiry_date': 2021, 'Price': 55, 'Quantity': 110, 'Taste': 'sweet'}, 1125: {'Product_Name': 'Candy', 'Expiry_date': 2023, 'Price': 5, 'Quantity': 250, 'Taste': 'sweet'}, 1126: {'Product_Name': 'Pickle', 'Expiry_date': 2023, 'Price': 110, 'Quantity': 120, 'Taste': 'sour'}, 1127: {'Product_Name': 'Choco_Cake', 'Expiry_date': 2021, 'Price': 350, 'Quantity': 10, 'Taste': 'sweet'}, 1128: {'Product_Name': 'Milk_Cake', 'Expiry_date': 2021, 'Price': 800, 'Quantity': 25, 'Taste': 'sweet'}, 1129: {'Product_Name': 'Soft_Drinks', 'Expiry_date': 2021, 'Price': 35, 'Quantity': 250, 'Taste': 'bitter&sweet'}, 1130: {'Product_Name': 'Bittergourd(in kg)', 'Expiry_date': 2021, 'Price': 60, 'Quantity': 250, 'Taste': 'bitter'}, 1131: {'Product_Name': 'pea(in kg)', 'Expiry_date': 2021, 'Price': 69, 'Quantity': 140, 'Taste': 'sweet'}, 1132: {'Product_Name': 'Brinjal(in kg)', 'Expiry_date': 2021, 'Price': 40, 'Quantity': 120, 'Taste': 'mild_bitter'}, 1133: {'Product_Name': 'Tomato(in kg)', 'Expiry_date': 2021, 'Price': 27, 'Quantity': 90, 'Taste': 'sour'}, 1134: {'Product_Name': 'Potato(in kg)', 'Expiry_date': 2021, 'Price': 37, 'Quantity': 90, 'Taste': 'mild_sweet'}, 1135: {'Product_Name': 'Mouthfreshener', 'Expiry_date': 2022, 'Price': 20, 'Quantity': 250, 'Taste': 'sweet'}, 1136: {'Product_Name': 'Papaya(in kg)', 'Expiry_date': 2021, 'Price': 60, 'Quantity': 90, 'Taste': 'sweet'}, 1137: {'Product_Name': 'Mango(in kg)', 'Expiry_date': 2021, 'Price': 80, 'Quantity': 150, 'Taste': 'sweet'}, 1138: {'Product_Name': 'Pizza', 'Expiry_date': 2021, 'Price': 199, 'Quantity': 210, 'Taste': 'spicy'}, 1139: {'Product_Name': 'Burger', 'Expiry_date': 2021, 'Price': 60, 'Quantity': 120, 'Taste': 'spicy'}, 1140: {'Product_Name': 'Momos', 'Expiry_date': 2021, 'Price': 50, 'Quantity': 120, 'Taste': 'spicy'}, 1141: {'Product_Name': 'VegRoll', 'Expiry_date': 2021, 'Price': 30, 'Quantity': 190, 'Taste': 'spicy'}, 1142: {'Product_Name': 'French_Fries', 'Expiry_date': 2021, 'Price': 150, 'Quantity': 190, 'Taste': 'sweet'}, 1143: {'Product_Name': 'HotDog', 'Expiry_date': 2021, 'Price': 168, 'Quantity': 50, 'Taste': 'sweet'}, 1144: {'Product_Name': 'Maggi', 'Expiry_date': 2021, 'Price': 45, 'Quantity': 150, 'Taste': 'spicy'}, 1145: {'Product_Name': 'Butter', 'Expiry_date': 2021, 'Price': 70, 'Quantity': 150, 'Taste': 'salty'}, 1146: {'Product_Name': 'Almonds(in kg)', 'Expiry_date': 2023, 'Price': 400, 'Quantity': 190, 'Taste': 'sweet'}, 1147: {'Product_Name': 'Dairy_Milk', 'Expiry_date': 2021, 'Price': 120, 'Quantity': 100, 'Taste': 'sweet'}, 1148: {'Product_Name': 'Lassi', 'Expiry_date': 2021, 'Price': 30, 'Quantity': 90, 'Taste': 'salty&sour'}, 1149: {'Product_Name': 'Kurkure', 'Expiry_date': 2021, 'Price': 10, 'Quantity': 120, 'Taste': 'spicy'}}\n"
     ]
    }
   ],
   "source": [
    "bucket = {1120: {'Product_Name':'Apple',\"Expiry_date\": 2021,\"Price\":100,\"Quantity\":200,\"Taste\":'sweet'},\n",
    "          1121: {'Product_Name':'Banana',\"Expiry_date\": 2021,\"Price\":30,\"Quantity\":150,\"Taste\":'sweet'},\n",
    "          1122: {'Product_Name':'Vinegar',\"Expiry_date\": 2022,\"Price\":55,\"Quantity\":80,\"Taste\":'sour'},\n",
    "          1123: {'Product_Name':'Strawberry',\"Expiry_date\": 2021,\"Price\":99,\"Quantity\":120,\"Taste\":'sweet'},\n",
    "          1124: {'Product_Name':'Grapes',\"Expiry_date\": 2021,\"Price\":55,\"Quantity\":110,\"Taste\":'sweet'},\n",
    "          1125: {'Product_Name':'Candy',\"Expiry_date\": 2023,\"Price\":5,\"Quantity\":250,\"Taste\":'sweet'},\n",
    "          1126: {'Product_Name':'Pickle',\"Expiry_date\": 2023,\"Price\":110,\"Quantity\":120,\"Taste\":'sour'},\n",
    "          1127: {'Product_Name':'Choco_Cake',\"Expiry_date\": 2021,\"Price\":350,\"Quantity\":10,\"Taste\":'sweet'},\n",
    "          1128: {'Product_Name':'Milk_Cake',\"Expiry_date\": 2021,\"Price\":800,\"Quantity\":25,\"Taste\":'sweet'},\n",
    "          1129: {'Product_Name':'Soft_Drinks',\"Expiry_date\": 2021,\"Price\":35,\"Quantity\":250,\"Taste\":'bitter&sweet'},\n",
    "          1130: {'Product_Name':'Bittergourd(in kg)',\"Expiry_date\": 2021,\"Price\":60,\"Quantity\":250,\"Taste\":'bitter'},\n",
    "          1131: {'Product_Name':'pea(in kg)',\"Expiry_date\": 2021,\"Price\":69,\"Quantity\":140,\"Taste\":'sweet'},\n",
    "          1132: {'Product_Name':'Brinjal(in kg)',\"Expiry_date\": 2021,\"Price\":40,\"Quantity\":120,\"Taste\":'mild_bitter'},\n",
    "          1133: {'Product_Name':'Tomato(in kg)',\"Expiry_date\": 2021,\"Price\":27,\"Quantity\":90,\"Taste\":'sour'},\n",
    "          1134: {'Product_Name':'Potato(in kg)',\"Expiry_date\": 2021,\"Price\":37,\"Quantity\":90,\"Taste\":'mild_sweet'},\n",
    "          1135: {'Product_Name':'Mouthfreshener',\"Expiry_date\": 2022,\"Price\":20,\"Quantity\":250,\"Taste\":'sweet'},\n",
    "          1136: {'Product_Name':'Papaya(in kg)',\"Expiry_date\": 2021,\"Price\":60,\"Quantity\":90,\"Taste\":'sweet'},\n",
    "          1137: {'Product_Name':'Mango(in kg)',\"Expiry_date\": 2021,\"Price\":80,\"Quantity\":150,\"Taste\":'sweet'},\n",
    "          1138: {'Product_Name':'Pizza',\"Expiry_date\": 2021,\"Price\":199,\"Quantity\":210,\"Taste\":'spicy'},\n",
    "          1139: {'Product_Name':'Burger',\"Expiry_date\": 2021,\"Price\":60,\"Quantity\":120,\"Taste\":'spicy'},\n",
    "          1140: {'Product_Name':'Momos',\"Expiry_date\": 2021,\"Price\":50,\"Quantity\":120,\"Taste\":'spicy'},\n",
    "          1141: {'Product_Name':'VegRoll',\"Expiry_date\": 2021,\"Price\":30,\"Quantity\":190,\"Taste\":'spicy'},\n",
    "          1142: {'Product_Name':'French_Fries',\"Expiry_date\": 2021,\"Price\":150,\"Quantity\":190,\"Taste\":'sweet'},\n",
    "          1143: {'Product_Name':'HotDog',\"Expiry_date\": 2021,\"Price\":168,\"Quantity\":50,\"Taste\":'sweet'},\n",
    "          1144: {'Product_Name':'Maggi',\"Expiry_date\": 2021,\"Price\":45,\"Quantity\":150,\"Taste\":'spicy'},\n",
    "          1145: {'Product_Name':'Butter',\"Expiry_date\": 2021,\"Price\":70,\"Quantity\":150,\"Taste\":'salty'},\n",
    "          1146: {'Product_Name':'Almonds(in kg)',\"Expiry_date\": 2023,\"Price\":400,\"Quantity\":190,\"Taste\":'sweet'},\n",
    "          1147: {'Product_Name':'Dairy_Milk',\"Expiry_date\": 2021,\"Price\":120,\"Quantity\":100,\"Taste\":'sweet'},\n",
    "          1148: {'Product_Name':'Lassi',\"Expiry_date\": 2021,\"Price\":30,\"Quantity\":90,\"Taste\":'salty&sour'},\n",
    "          1149: {'Product_Name':'Kurkure',\"Expiry_date\": 2021,\"Price\":10,\"Quantity\":120,\"Taste\":'spicy'}}\n",
    "print(bucket)\n",
    "          \n",
    "          \n",
    "          \n",
    "          \n",
    "                 \n",
    "\n"
   ]
  },
  {
   "cell_type": "code",
   "execution_count": 2,
   "id": "c582a38a",
   "metadata": {},
   "outputs": [],
   "source": [
    "import json"
   ]
  },
  {
   "cell_type": "code",
   "execution_count": 3,
   "id": "19e38dab",
   "metadata": {},
   "outputs": [],
   "source": [
    "js = json.dumps(bucket)"
   ]
  },
  {
   "cell_type": "code",
   "execution_count": 4,
   "id": "05ccc310",
   "metadata": {},
   "outputs": [
    {
     "data": {
      "text/plain": [
       "'{\"1120\": {\"Product_Name\": \"Apple\", \"Expiry_date\": 2021, \"Price\": 100, \"Quantity\": 200, \"Taste\": \"sweet\"}, \"1121\": {\"Product_Name\": \"Banana\", \"Expiry_date\": 2021, \"Price\": 30, \"Quantity\": 150, \"Taste\": \"sweet\"}, \"1122\": {\"Product_Name\": \"Vinegar\", \"Expiry_date\": 2022, \"Price\": 55, \"Quantity\": 80, \"Taste\": \"sour\"}, \"1123\": {\"Product_Name\": \"Strawberry\", \"Expiry_date\": 2021, \"Price\": 99, \"Quantity\": 120, \"Taste\": \"sweet\"}, \"1124\": {\"Product_Name\": \"Grapes\", \"Expiry_date\": 2021, \"Price\": 55, \"Quantity\": 110, \"Taste\": \"sweet\"}, \"1125\": {\"Product_Name\": \"Candy\", \"Expiry_date\": 2023, \"Price\": 5, \"Quantity\": 250, \"Taste\": \"sweet\"}, \"1126\": {\"Product_Name\": \"Pickle\", \"Expiry_date\": 2023, \"Price\": 110, \"Quantity\": 120, \"Taste\": \"sour\"}, \"1127\": {\"Product_Name\": \"Choco_Cake\", \"Expiry_date\": 2021, \"Price\": 350, \"Quantity\": 10, \"Taste\": \"sweet\"}, \"1128\": {\"Product_Name\": \"Milk_Cake\", \"Expiry_date\": 2021, \"Price\": 800, \"Quantity\": 25, \"Taste\": \"sweet\"}, \"1129\": {\"Product_Name\": \"Soft_Drinks\", \"Expiry_date\": 2021, \"Price\": 35, \"Quantity\": 250, \"Taste\": \"bitter&sweet\"}, \"1130\": {\"Product_Name\": \"Bittergourd(in kg)\", \"Expiry_date\": 2021, \"Price\": 60, \"Quantity\": 250, \"Taste\": \"bitter\"}, \"1131\": {\"Product_Name\": \"pea(in kg)\", \"Expiry_date\": 2021, \"Price\": 69, \"Quantity\": 140, \"Taste\": \"sweet\"}, \"1132\": {\"Product_Name\": \"Brinjal(in kg)\", \"Expiry_date\": 2021, \"Price\": 40, \"Quantity\": 120, \"Taste\": \"mild_bitter\"}, \"1133\": {\"Product_Name\": \"Tomato(in kg)\", \"Expiry_date\": 2021, \"Price\": 27, \"Quantity\": 90, \"Taste\": \"sour\"}, \"1134\": {\"Product_Name\": \"Potato(in kg)\", \"Expiry_date\": 2021, \"Price\": 37, \"Quantity\": 90, \"Taste\": \"mild_sweet\"}, \"1135\": {\"Product_Name\": \"Mouthfreshener\", \"Expiry_date\": 2022, \"Price\": 20, \"Quantity\": 250, \"Taste\": \"sweet\"}, \"1136\": {\"Product_Name\": \"Papaya(in kg)\", \"Expiry_date\": 2021, \"Price\": 60, \"Quantity\": 90, \"Taste\": \"sweet\"}, \"1137\": {\"Product_Name\": \"Mango(in kg)\", \"Expiry_date\": 2021, \"Price\": 80, \"Quantity\": 150, \"Taste\": \"sweet\"}, \"1138\": {\"Product_Name\": \"Pizza\", \"Expiry_date\": 2021, \"Price\": 199, \"Quantity\": 210, \"Taste\": \"spicy\"}, \"1139\": {\"Product_Name\": \"Burger\", \"Expiry_date\": 2021, \"Price\": 60, \"Quantity\": 120, \"Taste\": \"spicy\"}, \"1140\": {\"Product_Name\": \"Momos\", \"Expiry_date\": 2021, \"Price\": 50, \"Quantity\": 120, \"Taste\": \"spicy\"}, \"1141\": {\"Product_Name\": \"VegRoll\", \"Expiry_date\": 2021, \"Price\": 30, \"Quantity\": 190, \"Taste\": \"spicy\"}, \"1142\": {\"Product_Name\": \"French_Fries\", \"Expiry_date\": 2021, \"Price\": 150, \"Quantity\": 190, \"Taste\": \"sweet\"}, \"1143\": {\"Product_Name\": \"HotDog\", \"Expiry_date\": 2021, \"Price\": 168, \"Quantity\": 50, \"Taste\": \"sweet\"}, \"1144\": {\"Product_Name\": \"Maggi\", \"Expiry_date\": 2021, \"Price\": 45, \"Quantity\": 150, \"Taste\": \"spicy\"}, \"1145\": {\"Product_Name\": \"Butter\", \"Expiry_date\": 2021, \"Price\": 70, \"Quantity\": 150, \"Taste\": \"salty\"}, \"1146\": {\"Product_Name\": \"Almonds(in kg)\", \"Expiry_date\": 2023, \"Price\": 400, \"Quantity\": 190, \"Taste\": \"sweet\"}, \"1147\": {\"Product_Name\": \"Dairy_Milk\", \"Expiry_date\": 2021, \"Price\": 120, \"Quantity\": 100, \"Taste\": \"sweet\"}, \"1148\": {\"Product_Name\": \"Lassi\", \"Expiry_date\": 2021, \"Price\": 30, \"Quantity\": 90, \"Taste\": \"salty&sour\"}, \"1149\": {\"Product_Name\": \"Kurkure\", \"Expiry_date\": 2021, \"Price\": 10, \"Quantity\": 120, \"Taste\": \"spicy\"}}'"
      ]
     },
     "execution_count": 4,
     "metadata": {},
     "output_type": "execute_result"
    }
   ],
   "source": [
    "js"
   ]
  },
  {
   "cell_type": "code",
   "execution_count": 5,
   "id": "ebbf9166",
   "metadata": {},
   "outputs": [
    {
     "data": {
      "text/plain": [
       "str"
      ]
     },
     "execution_count": 5,
     "metadata": {},
     "output_type": "execute_result"
    }
   ],
   "source": [
    "type(js)"
   ]
  },
  {
   "cell_type": "code",
   "execution_count": 6,
   "id": "776a6151",
   "metadata": {},
   "outputs": [],
   "source": [
    "fd = open(\"bucket.json\",'w')\n",
    "fd.write(js)\n",
    "fd.close()"
   ]
  },
  {
   "cell_type": "code",
   "execution_count": 7,
   "id": "4e5bbfa4",
   "metadata": {},
   "outputs": [],
   "source": [
    "fd = open(\"bucket.json\",'r')\n",
    "txt = fd.read()\n",
    "fd.close()"
   ]
  },
  {
   "cell_type": "code",
   "execution_count": 8,
   "id": "6f410b9e",
   "metadata": {},
   "outputs": [
    {
     "data": {
      "text/plain": [
       "'{\"1120\": {\"Product_Name\": \"Apple\", \"Expiry_date\": 2021, \"Price\": 100, \"Quantity\": 200, \"Taste\": \"sweet\"}, \"1121\": {\"Product_Name\": \"Banana\", \"Expiry_date\": 2021, \"Price\": 30, \"Quantity\": 150, \"Taste\": \"sweet\"}, \"1122\": {\"Product_Name\": \"Vinegar\", \"Expiry_date\": 2022, \"Price\": 55, \"Quantity\": 80, \"Taste\": \"sour\"}, \"1123\": {\"Product_Name\": \"Strawberry\", \"Expiry_date\": 2021, \"Price\": 99, \"Quantity\": 120, \"Taste\": \"sweet\"}, \"1124\": {\"Product_Name\": \"Grapes\", \"Expiry_date\": 2021, \"Price\": 55, \"Quantity\": 110, \"Taste\": \"sweet\"}, \"1125\": {\"Product_Name\": \"Candy\", \"Expiry_date\": 2023, \"Price\": 5, \"Quantity\": 250, \"Taste\": \"sweet\"}, \"1126\": {\"Product_Name\": \"Pickle\", \"Expiry_date\": 2023, \"Price\": 110, \"Quantity\": 120, \"Taste\": \"sour\"}, \"1127\": {\"Product_Name\": \"Choco_Cake\", \"Expiry_date\": 2021, \"Price\": 350, \"Quantity\": 10, \"Taste\": \"sweet\"}, \"1128\": {\"Product_Name\": \"Milk_Cake\", \"Expiry_date\": 2021, \"Price\": 800, \"Quantity\": 25, \"Taste\": \"sweet\"}, \"1129\": {\"Product_Name\": \"Soft_Drinks\", \"Expiry_date\": 2021, \"Price\": 35, \"Quantity\": 250, \"Taste\": \"bitter&sweet\"}, \"1130\": {\"Product_Name\": \"Bittergourd(in kg)\", \"Expiry_date\": 2021, \"Price\": 60, \"Quantity\": 250, \"Taste\": \"bitter\"}, \"1131\": {\"Product_Name\": \"pea(in kg)\", \"Expiry_date\": 2021, \"Price\": 69, \"Quantity\": 140, \"Taste\": \"sweet\"}, \"1132\": {\"Product_Name\": \"Brinjal(in kg)\", \"Expiry_date\": 2021, \"Price\": 40, \"Quantity\": 120, \"Taste\": \"mild_bitter\"}, \"1133\": {\"Product_Name\": \"Tomato(in kg)\", \"Expiry_date\": 2021, \"Price\": 27, \"Quantity\": 90, \"Taste\": \"sour\"}, \"1134\": {\"Product_Name\": \"Potato(in kg)\", \"Expiry_date\": 2021, \"Price\": 37, \"Quantity\": 90, \"Taste\": \"mild_sweet\"}, \"1135\": {\"Product_Name\": \"Mouthfreshener\", \"Expiry_date\": 2022, \"Price\": 20, \"Quantity\": 250, \"Taste\": \"sweet\"}, \"1136\": {\"Product_Name\": \"Papaya(in kg)\", \"Expiry_date\": 2021, \"Price\": 60, \"Quantity\": 90, \"Taste\": \"sweet\"}, \"1137\": {\"Product_Name\": \"Mango(in kg)\", \"Expiry_date\": 2021, \"Price\": 80, \"Quantity\": 150, \"Taste\": \"sweet\"}, \"1138\": {\"Product_Name\": \"Pizza\", \"Expiry_date\": 2021, \"Price\": 199, \"Quantity\": 210, \"Taste\": \"spicy\"}, \"1139\": {\"Product_Name\": \"Burger\", \"Expiry_date\": 2021, \"Price\": 60, \"Quantity\": 120, \"Taste\": \"spicy\"}, \"1140\": {\"Product_Name\": \"Momos\", \"Expiry_date\": 2021, \"Price\": 50, \"Quantity\": 120, \"Taste\": \"spicy\"}, \"1141\": {\"Product_Name\": \"VegRoll\", \"Expiry_date\": 2021, \"Price\": 30, \"Quantity\": 190, \"Taste\": \"spicy\"}, \"1142\": {\"Product_Name\": \"French_Fries\", \"Expiry_date\": 2021, \"Price\": 150, \"Quantity\": 190, \"Taste\": \"sweet\"}, \"1143\": {\"Product_Name\": \"HotDog\", \"Expiry_date\": 2021, \"Price\": 168, \"Quantity\": 50, \"Taste\": \"sweet\"}, \"1144\": {\"Product_Name\": \"Maggi\", \"Expiry_date\": 2021, \"Price\": 45, \"Quantity\": 150, \"Taste\": \"spicy\"}, \"1145\": {\"Product_Name\": \"Butter\", \"Expiry_date\": 2021, \"Price\": 70, \"Quantity\": 150, \"Taste\": \"salty\"}, \"1146\": {\"Product_Name\": \"Almonds(in kg)\", \"Expiry_date\": 2023, \"Price\": 400, \"Quantity\": 190, \"Taste\": \"sweet\"}, \"1147\": {\"Product_Name\": \"Dairy_Milk\", \"Expiry_date\": 2021, \"Price\": 120, \"Quantity\": 100, \"Taste\": \"sweet\"}, \"1148\": {\"Product_Name\": \"Lassi\", \"Expiry_date\": 2021, \"Price\": 30, \"Quantity\": 90, \"Taste\": \"salty&sour\"}, \"1149\": {\"Product_Name\": \"Kurkure\", \"Expiry_date\": 2021, \"Price\": 10, \"Quantity\": 120, \"Taste\": \"spicy\"}}'"
      ]
     },
     "execution_count": 8,
     "metadata": {},
     "output_type": "execute_result"
    }
   ],
   "source": [
    "txt"
   ]
  },
  {
   "cell_type": "code",
   "execution_count": 9,
   "id": "daee3d9b",
   "metadata": {},
   "outputs": [],
   "source": [
    "bucket = json.loads(txt)"
   ]
  },
  {
   "cell_type": "code",
   "execution_count": 10,
   "id": "fa146267",
   "metadata": {},
   "outputs": [
    {
     "data": {
      "text/plain": [
       "{'1120': {'Product_Name': 'Apple',\n",
       "  'Expiry_date': 2021,\n",
       "  'Price': 100,\n",
       "  'Quantity': 200,\n",
       "  'Taste': 'sweet'},\n",
       " '1121': {'Product_Name': 'Banana',\n",
       "  'Expiry_date': 2021,\n",
       "  'Price': 30,\n",
       "  'Quantity': 150,\n",
       "  'Taste': 'sweet'},\n",
       " '1122': {'Product_Name': 'Vinegar',\n",
       "  'Expiry_date': 2022,\n",
       "  'Price': 55,\n",
       "  'Quantity': 80,\n",
       "  'Taste': 'sour'},\n",
       " '1123': {'Product_Name': 'Strawberry',\n",
       "  'Expiry_date': 2021,\n",
       "  'Price': 99,\n",
       "  'Quantity': 120,\n",
       "  'Taste': 'sweet'},\n",
       " '1124': {'Product_Name': 'Grapes',\n",
       "  'Expiry_date': 2021,\n",
       "  'Price': 55,\n",
       "  'Quantity': 110,\n",
       "  'Taste': 'sweet'},\n",
       " '1125': {'Product_Name': 'Candy',\n",
       "  'Expiry_date': 2023,\n",
       "  'Price': 5,\n",
       "  'Quantity': 250,\n",
       "  'Taste': 'sweet'},\n",
       " '1126': {'Product_Name': 'Pickle',\n",
       "  'Expiry_date': 2023,\n",
       "  'Price': 110,\n",
       "  'Quantity': 120,\n",
       "  'Taste': 'sour'},\n",
       " '1127': {'Product_Name': 'Choco_Cake',\n",
       "  'Expiry_date': 2021,\n",
       "  'Price': 350,\n",
       "  'Quantity': 10,\n",
       "  'Taste': 'sweet'},\n",
       " '1128': {'Product_Name': 'Milk_Cake',\n",
       "  'Expiry_date': 2021,\n",
       "  'Price': 800,\n",
       "  'Quantity': 25,\n",
       "  'Taste': 'sweet'},\n",
       " '1129': {'Product_Name': 'Soft_Drinks',\n",
       "  'Expiry_date': 2021,\n",
       "  'Price': 35,\n",
       "  'Quantity': 250,\n",
       "  'Taste': 'bitter&sweet'},\n",
       " '1130': {'Product_Name': 'Bittergourd(in kg)',\n",
       "  'Expiry_date': 2021,\n",
       "  'Price': 60,\n",
       "  'Quantity': 250,\n",
       "  'Taste': 'bitter'},\n",
       " '1131': {'Product_Name': 'pea(in kg)',\n",
       "  'Expiry_date': 2021,\n",
       "  'Price': 69,\n",
       "  'Quantity': 140,\n",
       "  'Taste': 'sweet'},\n",
       " '1132': {'Product_Name': 'Brinjal(in kg)',\n",
       "  'Expiry_date': 2021,\n",
       "  'Price': 40,\n",
       "  'Quantity': 120,\n",
       "  'Taste': 'mild_bitter'},\n",
       " '1133': {'Product_Name': 'Tomato(in kg)',\n",
       "  'Expiry_date': 2021,\n",
       "  'Price': 27,\n",
       "  'Quantity': 90,\n",
       "  'Taste': 'sour'},\n",
       " '1134': {'Product_Name': 'Potato(in kg)',\n",
       "  'Expiry_date': 2021,\n",
       "  'Price': 37,\n",
       "  'Quantity': 90,\n",
       "  'Taste': 'mild_sweet'},\n",
       " '1135': {'Product_Name': 'Mouthfreshener',\n",
       "  'Expiry_date': 2022,\n",
       "  'Price': 20,\n",
       "  'Quantity': 250,\n",
       "  'Taste': 'sweet'},\n",
       " '1136': {'Product_Name': 'Papaya(in kg)',\n",
       "  'Expiry_date': 2021,\n",
       "  'Price': 60,\n",
       "  'Quantity': 90,\n",
       "  'Taste': 'sweet'},\n",
       " '1137': {'Product_Name': 'Mango(in kg)',\n",
       "  'Expiry_date': 2021,\n",
       "  'Price': 80,\n",
       "  'Quantity': 150,\n",
       "  'Taste': 'sweet'},\n",
       " '1138': {'Product_Name': 'Pizza',\n",
       "  'Expiry_date': 2021,\n",
       "  'Price': 199,\n",
       "  'Quantity': 210,\n",
       "  'Taste': 'spicy'},\n",
       " '1139': {'Product_Name': 'Burger',\n",
       "  'Expiry_date': 2021,\n",
       "  'Price': 60,\n",
       "  'Quantity': 120,\n",
       "  'Taste': 'spicy'},\n",
       " '1140': {'Product_Name': 'Momos',\n",
       "  'Expiry_date': 2021,\n",
       "  'Price': 50,\n",
       "  'Quantity': 120,\n",
       "  'Taste': 'spicy'},\n",
       " '1141': {'Product_Name': 'VegRoll',\n",
       "  'Expiry_date': 2021,\n",
       "  'Price': 30,\n",
       "  'Quantity': 190,\n",
       "  'Taste': 'spicy'},\n",
       " '1142': {'Product_Name': 'French_Fries',\n",
       "  'Expiry_date': 2021,\n",
       "  'Price': 150,\n",
       "  'Quantity': 190,\n",
       "  'Taste': 'sweet'},\n",
       " '1143': {'Product_Name': 'HotDog',\n",
       "  'Expiry_date': 2021,\n",
       "  'Price': 168,\n",
       "  'Quantity': 50,\n",
       "  'Taste': 'sweet'},\n",
       " '1144': {'Product_Name': 'Maggi',\n",
       "  'Expiry_date': 2021,\n",
       "  'Price': 45,\n",
       "  'Quantity': 150,\n",
       "  'Taste': 'spicy'},\n",
       " '1145': {'Product_Name': 'Butter',\n",
       "  'Expiry_date': 2021,\n",
       "  'Price': 70,\n",
       "  'Quantity': 150,\n",
       "  'Taste': 'salty'},\n",
       " '1146': {'Product_Name': 'Almonds(in kg)',\n",
       "  'Expiry_date': 2023,\n",
       "  'Price': 400,\n",
       "  'Quantity': 190,\n",
       "  'Taste': 'sweet'},\n",
       " '1147': {'Product_Name': 'Dairy_Milk',\n",
       "  'Expiry_date': 2021,\n",
       "  'Price': 120,\n",
       "  'Quantity': 100,\n",
       "  'Taste': 'sweet'},\n",
       " '1148': {'Product_Name': 'Lassi',\n",
       "  'Expiry_date': 2021,\n",
       "  'Price': 30,\n",
       "  'Quantity': 90,\n",
       "  'Taste': 'salty&sour'},\n",
       " '1149': {'Product_Name': 'Kurkure',\n",
       "  'Expiry_date': 2021,\n",
       "  'Price': 10,\n",
       "  'Quantity': 120,\n",
       "  'Taste': 'spicy'}}"
      ]
     },
     "execution_count": 10,
     "metadata": {},
     "output_type": "execute_result"
    }
   ],
   "source": [
    "bucket"
   ]
  },
  {
   "cell_type": "markdown",
   "id": "af1ca01b",
   "metadata": {},
   "source": [
    "# Add new items in inventory"
   ]
  },
  {
   "cell_type": "code",
   "execution_count": 11,
   "id": "ccd11fd1",
   "metadata": {},
   "outputs": [
    {
     "name": "stdout",
     "output_type": "stream",
     "text": [
      "Enter product id: 1150\n",
      "Enter name: ginfds\n",
      "Enter expiry date: 23\n",
      "Enter Price: 23\n",
      "Enter Quantity: 23\n",
      "Enter the taste: tdv\n"
     ]
    }
   ],
   "source": [
    "pro_id = input(\"Enter product id: \")\n",
    "Product_Name = input(\"Enter name: \")\n",
    "Expiry_date = int(input(\"Enter expiry date: \"))\n",
    "Price = int(input(\"Enter Price: \"))\n",
    "Quantity = int(input(\"Enter Quantity: \"))\n",
    "Taste = input(\"Enter the taste: \")\n",
    "\n",
    "bucket[pro_id] = {'Product_Name':Product_Name,'Expiry_date':Expiry_date,'Price':Price,'Quantity':Quantity,'Taste':Taste}\n",
    "js = json.dumps(bucket)\n",
    "fd = open('bucket.json','w')\n",
    "fd.write(js)\n",
    "fd.close()\n",
    "\n"
   ]
  },
  {
   "cell_type": "code",
   "execution_count": 12,
   "id": "29c29f70",
   "metadata": {},
   "outputs": [
    {
     "data": {
      "text/plain": [
       "{'1120': {'Product_Name': 'Apple',\n",
       "  'Expiry_date': 2021,\n",
       "  'Price': 100,\n",
       "  'Quantity': 200,\n",
       "  'Taste': 'sweet'},\n",
       " '1121': {'Product_Name': 'Banana',\n",
       "  'Expiry_date': 2021,\n",
       "  'Price': 30,\n",
       "  'Quantity': 150,\n",
       "  'Taste': 'sweet'},\n",
       " '1122': {'Product_Name': 'Vinegar',\n",
       "  'Expiry_date': 2022,\n",
       "  'Price': 55,\n",
       "  'Quantity': 80,\n",
       "  'Taste': 'sour'},\n",
       " '1123': {'Product_Name': 'Strawberry',\n",
       "  'Expiry_date': 2021,\n",
       "  'Price': 99,\n",
       "  'Quantity': 120,\n",
       "  'Taste': 'sweet'},\n",
       " '1124': {'Product_Name': 'Grapes',\n",
       "  'Expiry_date': 2021,\n",
       "  'Price': 55,\n",
       "  'Quantity': 110,\n",
       "  'Taste': 'sweet'},\n",
       " '1125': {'Product_Name': 'Candy',\n",
       "  'Expiry_date': 2023,\n",
       "  'Price': 5,\n",
       "  'Quantity': 250,\n",
       "  'Taste': 'sweet'},\n",
       " '1126': {'Product_Name': 'Pickle',\n",
       "  'Expiry_date': 2023,\n",
       "  'Price': 110,\n",
       "  'Quantity': 120,\n",
       "  'Taste': 'sour'},\n",
       " '1127': {'Product_Name': 'Choco_Cake',\n",
       "  'Expiry_date': 2021,\n",
       "  'Price': 350,\n",
       "  'Quantity': 10,\n",
       "  'Taste': 'sweet'},\n",
       " '1128': {'Product_Name': 'Milk_Cake',\n",
       "  'Expiry_date': 2021,\n",
       "  'Price': 800,\n",
       "  'Quantity': 25,\n",
       "  'Taste': 'sweet'},\n",
       " '1129': {'Product_Name': 'Soft_Drinks',\n",
       "  'Expiry_date': 2021,\n",
       "  'Price': 35,\n",
       "  'Quantity': 250,\n",
       "  'Taste': 'bitter&sweet'},\n",
       " '1130': {'Product_Name': 'Bittergourd(in kg)',\n",
       "  'Expiry_date': 2021,\n",
       "  'Price': 60,\n",
       "  'Quantity': 250,\n",
       "  'Taste': 'bitter'},\n",
       " '1131': {'Product_Name': 'pea(in kg)',\n",
       "  'Expiry_date': 2021,\n",
       "  'Price': 69,\n",
       "  'Quantity': 140,\n",
       "  'Taste': 'sweet'},\n",
       " '1132': {'Product_Name': 'Brinjal(in kg)',\n",
       "  'Expiry_date': 2021,\n",
       "  'Price': 40,\n",
       "  'Quantity': 120,\n",
       "  'Taste': 'mild_bitter'},\n",
       " '1133': {'Product_Name': 'Tomato(in kg)',\n",
       "  'Expiry_date': 2021,\n",
       "  'Price': 27,\n",
       "  'Quantity': 90,\n",
       "  'Taste': 'sour'},\n",
       " '1134': {'Product_Name': 'Potato(in kg)',\n",
       "  'Expiry_date': 2021,\n",
       "  'Price': 37,\n",
       "  'Quantity': 90,\n",
       "  'Taste': 'mild_sweet'},\n",
       " '1135': {'Product_Name': 'Mouthfreshener',\n",
       "  'Expiry_date': 2022,\n",
       "  'Price': 20,\n",
       "  'Quantity': 250,\n",
       "  'Taste': 'sweet'},\n",
       " '1136': {'Product_Name': 'Papaya(in kg)',\n",
       "  'Expiry_date': 2021,\n",
       "  'Price': 60,\n",
       "  'Quantity': 90,\n",
       "  'Taste': 'sweet'},\n",
       " '1137': {'Product_Name': 'Mango(in kg)',\n",
       "  'Expiry_date': 2021,\n",
       "  'Price': 80,\n",
       "  'Quantity': 150,\n",
       "  'Taste': 'sweet'},\n",
       " '1138': {'Product_Name': 'Pizza',\n",
       "  'Expiry_date': 2021,\n",
       "  'Price': 199,\n",
       "  'Quantity': 210,\n",
       "  'Taste': 'spicy'},\n",
       " '1139': {'Product_Name': 'Burger',\n",
       "  'Expiry_date': 2021,\n",
       "  'Price': 60,\n",
       "  'Quantity': 120,\n",
       "  'Taste': 'spicy'},\n",
       " '1140': {'Product_Name': 'Momos',\n",
       "  'Expiry_date': 2021,\n",
       "  'Price': 50,\n",
       "  'Quantity': 120,\n",
       "  'Taste': 'spicy'},\n",
       " '1141': {'Product_Name': 'VegRoll',\n",
       "  'Expiry_date': 2021,\n",
       "  'Price': 30,\n",
       "  'Quantity': 190,\n",
       "  'Taste': 'spicy'},\n",
       " '1142': {'Product_Name': 'French_Fries',\n",
       "  'Expiry_date': 2021,\n",
       "  'Price': 150,\n",
       "  'Quantity': 190,\n",
       "  'Taste': 'sweet'},\n",
       " '1143': {'Product_Name': 'HotDog',\n",
       "  'Expiry_date': 2021,\n",
       "  'Price': 168,\n",
       "  'Quantity': 50,\n",
       "  'Taste': 'sweet'},\n",
       " '1144': {'Product_Name': 'Maggi',\n",
       "  'Expiry_date': 2021,\n",
       "  'Price': 45,\n",
       "  'Quantity': 150,\n",
       "  'Taste': 'spicy'},\n",
       " '1145': {'Product_Name': 'Butter',\n",
       "  'Expiry_date': 2021,\n",
       "  'Price': 70,\n",
       "  'Quantity': 150,\n",
       "  'Taste': 'salty'},\n",
       " '1146': {'Product_Name': 'Almonds(in kg)',\n",
       "  'Expiry_date': 2023,\n",
       "  'Price': 400,\n",
       "  'Quantity': 190,\n",
       "  'Taste': 'sweet'},\n",
       " '1147': {'Product_Name': 'Dairy_Milk',\n",
       "  'Expiry_date': 2021,\n",
       "  'Price': 120,\n",
       "  'Quantity': 100,\n",
       "  'Taste': 'sweet'},\n",
       " '1148': {'Product_Name': 'Lassi',\n",
       "  'Expiry_date': 2021,\n",
       "  'Price': 30,\n",
       "  'Quantity': 90,\n",
       "  'Taste': 'salty&sour'},\n",
       " '1149': {'Product_Name': 'Kurkure',\n",
       "  'Expiry_date': 2021,\n",
       "  'Price': 10,\n",
       "  'Quantity': 120,\n",
       "  'Taste': 'spicy'},\n",
       " '1150': {'Product_Name': 'ginfds',\n",
       "  'Expiry_date': 23,\n",
       "  'Price': 23,\n",
       "  'Quantity': 23,\n",
       "  'Taste': 'tdv'}}"
      ]
     },
     "execution_count": 12,
     "metadata": {},
     "output_type": "execute_result"
    }
   ],
   "source": [
    "bucket"
   ]
  },
  {
   "cell_type": "code",
   "execution_count": 13,
   "id": "6ed8ba96",
   "metadata": {},
   "outputs": [],
   "source": [
    "del bucket['1150']"
   ]
  },
  {
   "cell_type": "code",
   "execution_count": 14,
   "id": "eaa412cf",
   "metadata": {},
   "outputs": [
    {
     "data": {
      "text/plain": [
       "{'1120': {'Product_Name': 'Apple',\n",
       "  'Expiry_date': 2021,\n",
       "  'Price': 100,\n",
       "  'Quantity': 200,\n",
       "  'Taste': 'sweet'},\n",
       " '1121': {'Product_Name': 'Banana',\n",
       "  'Expiry_date': 2021,\n",
       "  'Price': 30,\n",
       "  'Quantity': 150,\n",
       "  'Taste': 'sweet'},\n",
       " '1122': {'Product_Name': 'Vinegar',\n",
       "  'Expiry_date': 2022,\n",
       "  'Price': 55,\n",
       "  'Quantity': 80,\n",
       "  'Taste': 'sour'},\n",
       " '1123': {'Product_Name': 'Strawberry',\n",
       "  'Expiry_date': 2021,\n",
       "  'Price': 99,\n",
       "  'Quantity': 120,\n",
       "  'Taste': 'sweet'},\n",
       " '1124': {'Product_Name': 'Grapes',\n",
       "  'Expiry_date': 2021,\n",
       "  'Price': 55,\n",
       "  'Quantity': 110,\n",
       "  'Taste': 'sweet'},\n",
       " '1125': {'Product_Name': 'Candy',\n",
       "  'Expiry_date': 2023,\n",
       "  'Price': 5,\n",
       "  'Quantity': 250,\n",
       "  'Taste': 'sweet'},\n",
       " '1126': {'Product_Name': 'Pickle',\n",
       "  'Expiry_date': 2023,\n",
       "  'Price': 110,\n",
       "  'Quantity': 120,\n",
       "  'Taste': 'sour'},\n",
       " '1127': {'Product_Name': 'Choco_Cake',\n",
       "  'Expiry_date': 2021,\n",
       "  'Price': 350,\n",
       "  'Quantity': 10,\n",
       "  'Taste': 'sweet'},\n",
       " '1128': {'Product_Name': 'Milk_Cake',\n",
       "  'Expiry_date': 2021,\n",
       "  'Price': 800,\n",
       "  'Quantity': 25,\n",
       "  'Taste': 'sweet'},\n",
       " '1129': {'Product_Name': 'Soft_Drinks',\n",
       "  'Expiry_date': 2021,\n",
       "  'Price': 35,\n",
       "  'Quantity': 250,\n",
       "  'Taste': 'bitter&sweet'},\n",
       " '1130': {'Product_Name': 'Bittergourd(in kg)',\n",
       "  'Expiry_date': 2021,\n",
       "  'Price': 60,\n",
       "  'Quantity': 250,\n",
       "  'Taste': 'bitter'},\n",
       " '1131': {'Product_Name': 'pea(in kg)',\n",
       "  'Expiry_date': 2021,\n",
       "  'Price': 69,\n",
       "  'Quantity': 140,\n",
       "  'Taste': 'sweet'},\n",
       " '1132': {'Product_Name': 'Brinjal(in kg)',\n",
       "  'Expiry_date': 2021,\n",
       "  'Price': 40,\n",
       "  'Quantity': 120,\n",
       "  'Taste': 'mild_bitter'},\n",
       " '1133': {'Product_Name': 'Tomato(in kg)',\n",
       "  'Expiry_date': 2021,\n",
       "  'Price': 27,\n",
       "  'Quantity': 90,\n",
       "  'Taste': 'sour'},\n",
       " '1134': {'Product_Name': 'Potato(in kg)',\n",
       "  'Expiry_date': 2021,\n",
       "  'Price': 37,\n",
       "  'Quantity': 90,\n",
       "  'Taste': 'mild_sweet'},\n",
       " '1135': {'Product_Name': 'Mouthfreshener',\n",
       "  'Expiry_date': 2022,\n",
       "  'Price': 20,\n",
       "  'Quantity': 250,\n",
       "  'Taste': 'sweet'},\n",
       " '1136': {'Product_Name': 'Papaya(in kg)',\n",
       "  'Expiry_date': 2021,\n",
       "  'Price': 60,\n",
       "  'Quantity': 90,\n",
       "  'Taste': 'sweet'},\n",
       " '1137': {'Product_Name': 'Mango(in kg)',\n",
       "  'Expiry_date': 2021,\n",
       "  'Price': 80,\n",
       "  'Quantity': 150,\n",
       "  'Taste': 'sweet'},\n",
       " '1138': {'Product_Name': 'Pizza',\n",
       "  'Expiry_date': 2021,\n",
       "  'Price': 199,\n",
       "  'Quantity': 210,\n",
       "  'Taste': 'spicy'},\n",
       " '1139': {'Product_Name': 'Burger',\n",
       "  'Expiry_date': 2021,\n",
       "  'Price': 60,\n",
       "  'Quantity': 120,\n",
       "  'Taste': 'spicy'},\n",
       " '1140': {'Product_Name': 'Momos',\n",
       "  'Expiry_date': 2021,\n",
       "  'Price': 50,\n",
       "  'Quantity': 120,\n",
       "  'Taste': 'spicy'},\n",
       " '1141': {'Product_Name': 'VegRoll',\n",
       "  'Expiry_date': 2021,\n",
       "  'Price': 30,\n",
       "  'Quantity': 190,\n",
       "  'Taste': 'spicy'},\n",
       " '1142': {'Product_Name': 'French_Fries',\n",
       "  'Expiry_date': 2021,\n",
       "  'Price': 150,\n",
       "  'Quantity': 190,\n",
       "  'Taste': 'sweet'},\n",
       " '1143': {'Product_Name': 'HotDog',\n",
       "  'Expiry_date': 2021,\n",
       "  'Price': 168,\n",
       "  'Quantity': 50,\n",
       "  'Taste': 'sweet'},\n",
       " '1144': {'Product_Name': 'Maggi',\n",
       "  'Expiry_date': 2021,\n",
       "  'Price': 45,\n",
       "  'Quantity': 150,\n",
       "  'Taste': 'spicy'},\n",
       " '1145': {'Product_Name': 'Butter',\n",
       "  'Expiry_date': 2021,\n",
       "  'Price': 70,\n",
       "  'Quantity': 150,\n",
       "  'Taste': 'salty'},\n",
       " '1146': {'Product_Name': 'Almonds(in kg)',\n",
       "  'Expiry_date': 2023,\n",
       "  'Price': 400,\n",
       "  'Quantity': 190,\n",
       "  'Taste': 'sweet'},\n",
       " '1147': {'Product_Name': 'Dairy_Milk',\n",
       "  'Expiry_date': 2021,\n",
       "  'Price': 120,\n",
       "  'Quantity': 100,\n",
       "  'Taste': 'sweet'},\n",
       " '1148': {'Product_Name': 'Lassi',\n",
       "  'Expiry_date': 2021,\n",
       "  'Price': 30,\n",
       "  'Quantity': 90,\n",
       "  'Taste': 'salty&sour'},\n",
       " '1149': {'Product_Name': 'Kurkure',\n",
       "  'Expiry_date': 2021,\n",
       "  'Price': 10,\n",
       "  'Quantity': 120,\n",
       "  'Taste': 'spicy'}}"
      ]
     },
     "execution_count": 14,
     "metadata": {},
     "output_type": "execute_result"
    }
   ],
   "source": [
    "bucket"
   ]
  },
  {
   "cell_type": "markdown",
   "id": "96b596cc",
   "metadata": {},
   "source": [
    "# Purchase"
   ]
  },
  {
   "cell_type": "code",
   "execution_count": 15,
   "id": "7c59a3d4",
   "metadata": {},
   "outputs": [
    {
     "name": "stdout",
     "output_type": "stream",
     "text": [
      "Enter the product id: 1143\n",
      "Enter the quantity: 24\n",
      "Product:  HotDog\n",
      "Price:  168\n",
      "Billing Amount:  4032\n"
     ]
    }
   ],
   "source": [
    "prod = input(\"Enter the product id: \")\n",
    "quant = int(input(\"Enter the quantity: \"))\n",
    "\n",
    "print(\"Product: \", bucket[prod]['Product_Name'])\n",
    "print(\"Price: \", bucket[prod]['Price'])\n",
    "print(\"Billing Amount: \",bucket[prod]['Price']*quant)\n",
    "bucket[prod]['Quantity'] = bucket[prod]['Quantity'] - quant"
   ]
  },
  {
   "cell_type": "markdown",
   "id": "496c5b61",
   "metadata": {},
   "source": [
    "# Update Inventory after Purchase"
   ]
  },
  {
   "cell_type": "code",
   "execution_count": 20,
   "id": "8e2f8802",
   "metadata": {},
   "outputs": [],
   "source": [
    "js = json.dumps(bucket)\n",
    "\n",
    "fd = open(\"bucket.json\",'w')\n",
    "fd.write(js)\n",
    "fd.close()"
   ]
  },
  {
   "cell_type": "markdown",
   "id": "0979b82b",
   "metadata": {},
   "source": [
    "# Sales Json"
   ]
  },
  {
   "cell_type": "code",
   "execution_count": 25,
   "id": "c33930bc",
   "metadata": {},
   "outputs": [
    {
     "data": {
      "text/plain": [
       "{'prod_id': '1143', 'Quantity': 24, 'amount': 4032}"
      ]
     },
     "execution_count": 25,
     "metadata": {},
     "output_type": "execute_result"
    }
   ],
   "source": [
    "{'prod_id':prod,'Quantity':quant,'amount':bucket[prod]['Price']*quant}"
   ]
  },
  {
   "cell_type": "code",
   "execution_count": 26,
   "id": "b0682211",
   "metadata": {},
   "outputs": [],
   "source": [
    "sales = {1:{'prod_id':prod,'Quantity':quant,'amount':bucket[prod]['Price']*quant},\n",
    "         2:{'prod_id':prod,'Quantity':quant,'amount':bucket[prod]['Price']*quant},\n",
    "         3:{'prod_id':prod,'Quantity':quant,'amount':bucket[prod]['Price']*quant}}"
   ]
  },
  {
   "cell_type": "code",
   "execution_count": 27,
   "id": "616463a2",
   "metadata": {},
   "outputs": [],
   "source": [
    "sale = json.dumps(sales)"
   ]
  },
  {
   "cell_type": "code",
   "execution_count": 28,
   "id": "e0220e73",
   "metadata": {},
   "outputs": [
    {
     "data": {
      "text/plain": [
       "'{\"1\": {\"prod_id\": \"1143\", \"Quantity\": 24, \"amount\": 4032}, \"2\": {\"prod_id\": \"1143\", \"Quantity\": 24, \"amount\": 4032}, \"3\": {\"prod_id\": \"1143\", \"Quantity\": 24, \"amount\": 4032}}'"
      ]
     },
     "execution_count": 28,
     "metadata": {},
     "output_type": "execute_result"
    }
   ],
   "source": [
    "sale"
   ]
  },
  {
   "cell_type": "code",
   "execution_count": null,
   "id": "9bee0146",
   "metadata": {},
   "outputs": [],
   "source": []
  }
 ],
 "metadata": {
  "kernelspec": {
   "display_name": "Python 3 (ipykernel)",
   "language": "python",
   "name": "python3"
  },
  "language_info": {
   "codemirror_mode": {
    "name": "ipython",
    "version": 3
   },
   "file_extension": ".py",
   "mimetype": "text/x-python",
   "name": "python",
   "nbconvert_exporter": "python",
   "pygments_lexer": "ipython3",
   "version": "3.9.6"
  }
 },
 "nbformat": 4,
 "nbformat_minor": 5
}
